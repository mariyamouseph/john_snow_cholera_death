{
 "cells": [
  {
   "cell_type": "code",
   "execution_count": 1,
   "metadata": {},
   "outputs": [],
   "source": [
    "import numpy as np\n",
    "import pandas as pd\n",
    "import shapefile as shp\n",
    "import matplotlib.pyplot as plt\n",
    "import seaborn as sns\n",
    "from matplotlib.lines import Line2D"
   ]
  },
  {
   "cell_type": "code",
   "execution_count": 2,
   "metadata": {},
   "outputs": [],
   "source": [
    "sns.set(style='whitegrid', palette='pastel', color_codes=True) \n",
    "sns.mpl.rc('figure', figsize=(10,6))"
   ]
  },
  {
   "cell_type": "code",
   "execution_count": 3,
   "metadata": {},
   "outputs": [],
   "source": [
    "#opening the vector map\n",
    "shp_path = 'Pumps.shp'\n",
    "#reading the shape file by using reader function of the shape lib\n",
    "sf = shp.Reader(shp_path)"
   ]
  },
  {
   "cell_type": "code",
   "execution_count": 4,
   "metadata": {},
   "outputs": [
    {
     "data": {
      "text/plain": [
       "8"
      ]
     },
     "execution_count": 4,
     "metadata": {},
     "output_type": "execute_result"
    }
   ],
   "source": [
    "len(sf.shapes())\n"
   ]
  },
  {
   "cell_type": "code",
   "execution_count": 5,
   "metadata": {},
   "outputs": [
    {
     "data": {
      "text/plain": [
       "[Record #0: [0],\n",
       " Record #1: [0],\n",
       " Record #2: [0],\n",
       " Record #3: [0],\n",
       " Record #4: [0],\n",
       " Record #5: [0],\n",
       " Record #6: [0],\n",
       " Record #7: [0]]"
      ]
     },
     "execution_count": 5,
     "metadata": {},
     "output_type": "execute_result"
    }
   ],
   "source": [
    "sf.records()"
   ]
  },
  {
   "cell_type": "code",
   "execution_count": 6,
   "metadata": {},
   "outputs": [
    {
     "data": {
      "text/plain": [
       "0"
      ]
     },
     "execution_count": 6,
     "metadata": {},
     "output_type": "execute_result"
    }
   ],
   "source": [
    "sf.records()[0][0]"
   ]
  },
  {
   "cell_type": "code",
   "execution_count": 7,
   "metadata": {},
   "outputs": [],
   "source": [
    "def read_shapefile(sf):\n",
    "    \"\"\"\n",
    "    Read a shapefile into a Pandas dataframe with a 'coords' \n",
    "    column holding the geometry information. This uses the pyshp\n",
    "    package\n",
    "    \"\"\"\n",
    "    fields = [x[0] for x in sf.fields][1:]\n",
    "    records = sf.records()\n",
    "    shps = [s.points for s in sf.shapes()]\n",
    "    df = pd.DataFrame(columns=fields, data=records)\n",
    "    df = df.assign(coords=shps)\n",
    "    return df"
   ]
  },
  {
   "cell_type": "code",
   "execution_count": 8,
   "metadata": {},
   "outputs": [
    {
     "data": {
      "text/plain": [
       "(8, 2)"
      ]
     },
     "execution_count": 8,
     "metadata": {},
     "output_type": "execute_result"
    }
   ],
   "source": [
    "df = read_shapefile(sf)\n",
    "df.shape"
   ]
  },
  {
   "cell_type": "code",
   "execution_count": 9,
   "metadata": {},
   "outputs": [
    {
     "data": {
      "text/html": [
       "<div>\n",
       "<style scoped>\n",
       "    .dataframe tbody tr th:only-of-type {\n",
       "        vertical-align: middle;\n",
       "    }\n",
       "\n",
       "    .dataframe tbody tr th {\n",
       "        vertical-align: top;\n",
       "    }\n",
       "\n",
       "    .dataframe thead th {\n",
       "        text-align: right;\n",
       "    }\n",
       "</style>\n",
       "<table border=\"1\" class=\"dataframe\">\n",
       "  <thead>\n",
       "    <tr style=\"text-align: right;\">\n",
       "      <th></th>\n",
       "      <th>Id</th>\n",
       "      <th>coords</th>\n",
       "    </tr>\n",
       "  </thead>\n",
       "  <tbody>\n",
       "    <tr>\n",
       "      <th>6</th>\n",
       "      <td>0</td>\n",
       "      <td>[[529593.7270428849, 180660.45474864007]]</td>\n",
       "    </tr>\n",
       "    <tr>\n",
       "      <th>4</th>\n",
       "      <td>0</td>\n",
       "      <td>[[529613.205238149, 180896.80412119546]]</td>\n",
       "    </tr>\n",
       "    <tr>\n",
       "      <th>1</th>\n",
       "      <td>0</td>\n",
       "      <td>[[529192.5378675429, 181079.39137965103]]</td>\n",
       "    </tr>\n",
       "    <tr>\n",
       "      <th>3</th>\n",
       "      <td>0</td>\n",
       "      <td>[[529748.9110886676, 180924.2072511902]]</td>\n",
       "    </tr>\n",
       "    <tr>\n",
       "      <th>0</th>\n",
       "      <td>0</td>\n",
       "      <td>[[529396.5393954368, 181025.06304746034]]</td>\n",
       "    </tr>\n",
       "  </tbody>\n",
       "</table>\n",
       "</div>"
      ],
      "text/plain": [
       "   Id                                     coords\n",
       "6   0  [[529593.7270428849, 180660.45474864007]]\n",
       "4   0   [[529613.205238149, 180896.80412119546]]\n",
       "1   0  [[529192.5378675429, 181079.39137965103]]\n",
       "3   0   [[529748.9110886676, 180924.2072511902]]\n",
       "0   0  [[529396.5393954368, 181025.06304746034]]"
      ]
     },
     "execution_count": 9,
     "metadata": {},
     "output_type": "execute_result"
    }
   ],
   "source": [
    "df.sample(5)"
   ]
  },
  {
   "cell_type": "code",
   "execution_count": 10,
   "metadata": {},
   "outputs": [],
   "source": [
    "def plot_map(sf, x_lim = None, y_lim = None, figsize = (11,9)):\n",
    "    '''\n",
    "    Plot map with lim coordinates\n",
    "    '''\n",
    "    plt.figure(figsize = figsize)\n",
    "    id=0\n",
    "    for shape in sf.shapeRecords():\n",
    "        x = [i[0] for i in shape.shape.points[:]]\n",
    "        y = [i[1] for i in shape.shape.points[:]]\n",
    "        plt.plot(x, y, color='green', linestyle='dashed', marker='D',\n",
    "     markerfacecolor='red', markersize=12)\n",
    "        \n",
    "        if (x_lim == None) & (y_lim == None):\n",
    "            x0 = np.mean(x)\n",
    "            y0 = np.mean(y)\n",
    "            plt.text(x0, y0, id, fontsize=10)\n",
    "        id = id+1\n",
    "    \n",
    "    if (x_lim != None) & (y_lim != None):     \n",
    "        plt.xlim(x_lim)\n",
    "        plt.ylim(y_lim)"
   ]
  },
  {
   "cell_type": "code",
   "execution_count": 11,
   "metadata": {},
   "outputs": [],
   "source": [
    "def plot_map(sf, x_lim = None, y_lim = None, figsize = (11,9)):\n",
    "    '''\n",
    "    Plot map with lim coordinates\n",
    "    '''\n",
    "    plt.figure(figsize = figsize)\n",
    "    id=0\n",
    "    for shape in sf.shapeRecords():\n",
    "        x = [i[0] for i in shape.shape.points[:]]\n",
    "        y = [i[1] for i in shape.shape.points[:]]\n",
    "        plt.plot(x, y, color='green', linestyle='dashed', marker='D',\n",
    "     markerfacecolor='red', markersize=12)\n",
    "        \n",
    "        if (x_lim == None) & (y_lim == None):\n",
    "            x0 = np.mean(x)\n",
    "            y0 = np.mean(y)\n",
    "            plt.text(x0, y0, id, fontsize=10)\n",
    "        id = id+1\n",
    "    \n",
    "    if (x_lim != None) & (y_lim != None):     \n",
    "        plt.xlim(x_lim)\n",
    "        plt.ylim(y_lim)"
   ]
  },
  {
   "cell_type": "code",
   "execution_count": 12,
   "metadata": {},
   "outputs": [
    {
     "data": {
      "image/png": "[encoded data removed]",
      "text/plain": [
       "<Figure size 792x648 with 1 Axes>"
      ]
     },
     "metadata": {},
     "output_type": "display_data"
    }
   ],
   "source": [
    "plot_map(sf)"
   ]
  },
  {
   "cell_type": "code",
   "execution_count": 13,
   "metadata": {},
   "outputs": [],
   "source": [
    "#opening the vector map\n",
    "shp_path_2 = 'Cholera_Deaths.shp'\n",
    "#reading the shape file by using reader function of the shape lib\n",
    "sf2 = shp.Reader(shp_path_2)"
   ]
  },
  {
   "cell_type": "code",
   "execution_count": 14,
   "metadata": {},
   "outputs": [
    {
     "data": {
      "text/plain": [
       "250"
      ]
     },
     "execution_count": 14,
     "metadata": {},
     "output_type": "execute_result"
    }
   ],
   "source": [
    "len(sf2.shapes())"
   ]
  },
  {
   "cell_type": "code",
   "execution_count": 15,
   "metadata": {},
   "outputs": [
    {
     "data": {
      "text/plain": [
       "(250, 3)"
      ]
     },
     "execution_count": 15,
     "metadata": {},
     "output_type": "execute_result"
    }
   ],
   "source": [
    "df2 = read_shapefile(sf2)\n",
    "df2.shape"
   ]
  },
  {
   "cell_type": "code",
   "execution_count": 16,
   "metadata": {},
   "outputs": [
    {
     "data": {
      "text/html": [
       "<div>\n",
       "<style scoped>\n",
       "    .dataframe tbody tr th:only-of-type {\n",
       "        vertical-align: middle;\n",
       "    }\n",
       "\n",
       "    .dataframe tbody tr th {\n",
       "        vertical-align: top;\n",
       "    }\n",
       "\n",
       "    .dataframe thead th {\n",
       "        text-align: right;\n",
       "    }\n",
       "</style>\n",
       "<table border=\"1\" class=\"dataframe\">\n",
       "  <thead>\n",
       "    <tr style=\"text-align: right;\">\n",
       "      <th></th>\n",
       "      <th>Id</th>\n",
       "      <th>Count</th>\n",
       "      <th>coords</th>\n",
       "    </tr>\n",
       "  </thead>\n",
       "  <tbody>\n",
       "    <tr>\n",
       "      <th>0</th>\n",
       "      <td>0</td>\n",
       "      <td>3</td>\n",
       "      <td>[[529308.7414200425, 181031.3515464273]]</td>\n",
       "    </tr>\n",
       "    <tr>\n",
       "      <th>1</th>\n",
       "      <td>0</td>\n",
       "      <td>2</td>\n",
       "      <td>[[529312.163571333, 181025.17240113253]]</td>\n",
       "    </tr>\n",
       "    <tr>\n",
       "      <th>2</th>\n",
       "      <td>0</td>\n",
       "      <td>1</td>\n",
       "      <td>[[529314.3824294576, 181020.29368841863]]</td>\n",
       "    </tr>\n",
       "    <tr>\n",
       "      <th>3</th>\n",
       "      <td>0</td>\n",
       "      <td>1</td>\n",
       "      <td>[[529317.3796448297, 181014.25877068692]]</td>\n",
       "    </tr>\n",
       "    <tr>\n",
       "      <th>4</th>\n",
       "      <td>0</td>\n",
       "      <td>4</td>\n",
       "      <td>[[529320.6754489439, 181007.87162814138]]</td>\n",
       "    </tr>\n",
       "  </tbody>\n",
       "</table>\n",
       "</div>"
      ],
      "text/plain": [
       "   Id  Count                                     coords\n",
       "0   0      3   [[529308.7414200425, 181031.3515464273]]\n",
       "1   0      2   [[529312.163571333, 181025.17240113253]]\n",
       "2   0      1  [[529314.3824294576, 181020.29368841863]]\n",
       "3   0      1  [[529317.3796448297, 181014.25877068692]]\n",
       "4   0      4  [[529320.6754489439, 181007.87162814138]]"
      ]
     },
     "execution_count": 16,
     "metadata": {},
     "output_type": "execute_result"
    }
   ],
   "source": [
    "df2.head()"
   ]
  },
  {
   "cell_type": "code",
   "execution_count": 17,
   "metadata": {},
   "outputs": [
    {
     "data": {
      "text/plain": [
       "1    4\n",
       "Name: Count, dtype: int64"
      ]
     },
     "execution_count": 17,
     "metadata": {},
     "output_type": "execute_result"
    }
   ],
   "source": [
    "df2.rename(columns={0 :'Id'}, inplace=True)\n",
    "df2.iloc[[1]]['Count']*2"
   ]
  },
  {
   "cell_type": "code",
   "execution_count": 18,
   "metadata": {},
   "outputs": [],
   "source": [
    "def plot_map_df2(df2, x_lim = None, y_lim = None, figsize = (11,9)):\n",
    "    '''\n",
    "    Plot map with lim coordinates\n",
    "    '''\n",
    "    plt.figure(figsize = figsize)\n",
    "    id=0    \n",
    "    for coord in df2['coords']:\n",
    "        x = coord[0][0]\n",
    "        y = coord[0][1]\n",
    "        plt.plot(x, y, color='green', linestyle='dashed', marker='o',\n",
    "     markerfacecolor='red', markersize=df2.iloc[[id]]['Count']*2)\n",
    "        id=id+1\n",
    "    \n",
    "    if (x_lim != None) & (y_lim != None):     \n",
    "        plt.xlim(x_lim)\n",
    "        plt.ylim(y_lim)"
   ]
  },
  {
   "cell_type": "code",
   "execution_count": 19,
   "metadata": {},
   "outputs": [
    {
     "data": {
      "image/png": "[encoded data removed]",
      "text/plain": [
       "<Figure size 792x648 with 1 Axes>"
      ]
     },
     "metadata": {},
     "output_type": "display_data"
    }
   ],
   "source": [
    "plot_map_df2(df2)"
   ]
  },
  {
   "cell_type": "code",
   "execution_count": 22,
   "metadata": {},
   "outputs": [],
   "source": [
    "def plot_map_final(sf, df2, x_lim = None, y_lim = None, figsize = (11,9)):\n",
    "    '''\n",
    "    Plot map with lim coordinates\n",
    "    '''\n",
    "    plt.figure(figsize = figsize)\n",
    "    \n",
    "    id=0    \n",
    "    for coord in df2['coords']:\n",
    "        x = coord[0][0]\n",
    "        y = coord[0][1]\n",
    "        plt.plot(x, y, color='green', linestyle='dashed', marker='o',\n",
    "     markerfacecolor='red', markersize=df2.iloc[[id]]['Count']*2, label=\"Deaths\")\n",
    "        id=id+1\n",
    "        \n",
    "    for shape in sf.shapeRecords():\n",
    "        x = [i[0] for i in shape.shape.points[:]]\n",
    "        y = [i[1] for i in shape.shape.points[:]]\n",
    "        plt.plot(x, y, color='green', linestyle='dashed', marker='D',\n",
    "     markerfacecolor='blue', markersize=12,label=\"Pump\")\n",
    "    \n",
    "    colors = ['red', 'blue']\n",
    "    lines = [Line2D([0], [0], color=c, linewidth=3, linestyle='-') for c in colors]\n",
    "    labels = ['Deaths', 'Pump']\n",
    "    plt.legend(lines, labels)\n",
    "    plt.tight_layout()\n",
    "    plt.savefig('exam.png')\n",
    "    if (x_lim != None) & (y_lim != None):     \n",
    "        plt.xlim(x_lim)\n",
    "        plt.ylim(y_lim)"
   ]
  },
  {
   "cell_type": "code",
   "execution_count": 23,
   "metadata": {},
   "outputs": [
    {
     "data": {
      "image/png": "[encoded data removed]",
      "text/plain": [
       "<Figure size 792x648 with 1 Axes>"
      ]
     },
     "metadata": {},
     "output_type": "display_data"
    }
   ],
   "source": [
    "plot_map_final(sf,df2)"
   ]
  },
  {
   "cell_type": "code",
   "execution_count": 157,
   "metadata": {},
   "outputs": [],
   "source": []
  },
  {
   "cell_type": "code",
   "execution_count": 145,
   "metadata": {},
   "outputs": [],
   "source": []
  },
  {
   "cell_type": "code",
   "execution_count": null,
   "metadata": {},
   "outputs": [],
   "source": []
  },
  {
   "cell_type": "code",
   "execution_count": null,
   "metadata": {},
   "outputs": [],
   "source": []
  }
 ],
 "metadata": {
  "kernelspec": {
   "display_name": "Python 3",
   "language": "python",
   "name": "python3"
  },
  "language_info": {
   "codemirror_mode": {
    "name": "ipython",
    "version": 3
   },
   "file_extension": ".py",
   "mimetype": "text/x-python",
   "name": "python",
   "nbconvert_exporter": "python",
   "pygments_lexer": "ipython3",
   "version": "3.7.6"
  }
 },
 "nbformat": 4,
 "nbformat_minor": 4
}
